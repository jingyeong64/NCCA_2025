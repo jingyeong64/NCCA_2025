{
 "cells": [
  {
   "cell_type": "code",
   "execution_count": null,
   "metadata": {},
   "outputs": [],
   "source": [
    "!kaggle competitions download -c march-machine-learning-mania-2025"
   ]
  },
  {
   "cell_type": "code",
   "execution_count": 2,
   "metadata": {},
   "outputs": [],
   "source": [
    "import numpy as np\n",
    "import pandas as pd\n",
    "import warnings\n",
    "import missingno\n",
    "warnings.filterwarnings('ignore')\n",
    "pd.set_option(\"display.max_columns\", None)\n",
    "pd.set_option(\"display.max_rows\", 20)\n"
   ]
  },
  {
   "cell_type": "code",
   "execution_count": 3,
   "metadata": {},
   "outputs": [],
   "source": [
    "# load data\n",
    "data_dir = r\"C:\\Users\\user\\MachineLearnings\\NCCA\\march-machine-learning-mania-2025\"\n",
    "M_regular_results = pd.read_csv(f\"{data_dir}\\MRegularSeasonDetailedResults.csv\")\n",
    "M_tourney_results = pd.read_csv(f\"{data_dir}\\MNCAATourneyDetailedResults.csv\")\n",
    "W_regular_results = pd.read_csv(f\"{data_dir}\\WRegularSeasonDetailedResults.csv\")\n",
    "W_tourney_results = pd.read_csv(f\"{data_dir}\\WNCAATourneyDetailedResults.csv\")\n",
    "M_seeds = pd.read_csv(f\"{data_dir}\\MNCAATourneySeeds.csv\")\n",
    "W_seeds = pd.read_csv(f\"{data_dir}\\WNCAATourneySeeds.csv\")"
   ]
  },
  {
   "cell_type": "code",
   "execution_count": 4,
   "metadata": {},
   "outputs": [],
   "source": [
    "# data 정리\n",
    "# 남여 합치기\n",
    "regular_results = pd.concat([M_regular_results, W_regular_results], axis=0) \n",
    "tourney_results = pd.concat([M_tourney_results, W_tourney_results], axis=0)\n",
    "seeds = pd.concat([M_seeds, W_seeds], axis=0)\n",
    "# 2005년도 이상만 포함\n",
    "regular_results = regular_results[regular_results[\"Season\"] >= 2005]\n",
    "tourney_results = tourney_results[tourney_results[\"Season\"] >= 2005]\n",
    "seeds = seeds[seeds[\"Season\"] >= 2005]\n",
    "#seed 번호 정수로 정리\n",
    "seeds['seed'] = seeds[\"Seed\"].apply(lambda x: int(x[1:3]))\n"
   ]
  },
  {
   "cell_type": "code",
   "execution_count": 5,
   "metadata": {},
   "outputs": [],
   "source": [
    "\n",
    "def prepare_data(df):\n",
    "    df = df[[\"Season\", \"DayNum\", \"LTeamID\", \"LScore\", \"WTeamID\", \"WScore\", \"NumOT\",\n",
    "            \"LFGM\", \"LFGA\", \"LFGM3\", \"LFGA3\", \"LFTM\", \"LFTA\", \"LOR\", \"LDR\", \"LAst\", \"LTO\", \"LStl\", \"LBlk\", \"LPF\",\n",
    "            \"WFGM\", \"WFGA\", \"WFGM3\", \"WFGA3\", \"WFTM\", \"WFTA\", \"WOR\", \"WDR\", \"WAst\", \"WTO\", \"WStl\", \"WBlk\", \"WPF\"]]\n",
    "    # 연장전 보정\n",
    "    adjot = (40 + 5*df['NumOT'])/40\n",
    "    adj_col = [\"LScore\", \"WScore\", \"LFGM\", \"LFGA\", \"LFGM3\", \"LFGA3\", \"LFTM\", \"LFTA\", \"LOR\", \"LDR\", \"LAst\", \"LTO\", \"LStl\", \"LBlk\", \"LPF\",\n",
    "               \"WFGM\", \"WFGA\", \"WFGM3\", \"WFGA3\", \"WFTM\", \"WFTA\", \"WOR\", \"WDR\", \"WAst\", \"WTO\", \"WStl\", \"WBlk\", \"WPF\"]\n",
    "    for col in adj_col:\n",
    "        df[col] = df[col] / adjot\n",
    "    # 한경기를 T1, T2 / T2, T1으로 나누기 \n",
    "    df_swap = df.copy()\n",
    "    df.columns = [x.replace(\"W\",\"T1_\").replace(\"L\", \"T2_\") for x in list(df.columns)]\n",
    "    df_swap.columns = [x.replace(\"L\",\"T1_\").replace(\"W\", \"T2_\") for x in list(df_swap.columns)]\n",
    "    output = pd.concat([df, df_swap], axis=0).reset_index(drop=True)\n",
    "    output[\"PointDiff\"] = output[\"T1_Score\"] - output[\"T2_Score\"]\n",
    "    output[\"win\"] = np.where(output[\"PointDiff\"] > 0, 1, 0)\n",
    "    output['gender'] = np.where(output['T1_TeamID']<2000, 1, 0)\n",
    "    return output\n",
    "\n",
    "regular_data = prepare_data(regular_results)\n",
    "tourney_data = prepare_data(tourney_results)\n",
    "    "
   ]
  },
  {
   "cell_type": "code",
   "execution_count": 6,
   "metadata": {},
   "outputs": [],
   "source": [
    "# T1, T2의 seed, seed차이 컬럼 붙이기\n",
    "seeds_T1 = seeds[[\"Season\", \"TeamID\", \"seed\"]].copy()\n",
    "seeds_T2 = seeds[[\"Season\", \"TeamID\", \"seed\"]].copy()\n",
    "seeds_T1.columns = [\"Season\", \"T1_TeamID\", \"T1_seed\"]\n",
    "seeds_T2.columns = [\"Season\", \"T2_TeamID\", \"T2_seed\"]\n",
    "\n",
    "tourney_data = tourney_data[[\"Season\", \"T1_TeamID\", \"T2_TeamID\", \"PointDiff\", \"win\", \"gender\"]]\n",
    "tourney_data = pd.merge(tourney_data, seeds_T1, on=[\"Season\", \"T1_TeamID\"], how=\"left\")\n",
    "tourney_data = pd.merge(tourney_data, seeds_T2, on=[\"Season\", \"T2_TeamID\"], how=\"left\")\n",
    "tourney_data['seed_diff'] = tourney_data['T1_seed'] - tourney_data['T2_seed']"
   ]
  },
  {
   "cell_type": "code",
   "execution_count": 7,
   "metadata": {},
   "outputs": [],
   "source": [
    "# 슛 성공횟수/시도횟수로 성공률 계산\n",
    "regular_data[\"T1_FG%\"] = regular_data[\"T1_FGM\"] / regular_data[\"T1_FGA\"]\n",
    "regular_data[\"T1_FG3%\"] = regular_data[\"T1_FGM3\"] / regular_data[\"T1_FGA3\"]\n",
    "regular_data[\"T1_FT%\"] = regular_data[\"T1_FTM\"] / regular_data[\"T1_FTA\"]\n",
    "regular_data[\"T2_FG%\"] = regular_data[\"T2_FGM\"] / regular_data[\"T2_FGA\"]\n",
    "regular_data[\"T2_FG3%\"] = regular_data[\"T2_FGM3\"] / regular_data[\"T2_FGA3\"]     \n",
    "regular_data[\"T2_FT%\"] = regular_data[\"T2_FTM\"] / regular_data[\"T2_FTA\"]"
   ]
  },
  {
   "cell_type": "code",
   "execution_count": 8,
   "metadata": {},
   "outputs": [],
   "source": [
    "boxcols = [\n",
    "    \"T1_Score\", \"T1_FGM\", \"T1_FGA\", \"T1_FG%\", \"T1_FGM3\", \"T1_FGA3\",\"T1_FG3%\", \"T1_FTM\", \"T1_FTA\",\"T1_FT%\",\n",
    "    \"T1_OR\", \"T1_DR\", \"T1_Ast\", \"T1_TO\", \"T1_Stl\", \"T1_Blk\", \"T1_PF\",\n",
    "    \"T2_Score\", \"T2_FGM\", \"T2_FGA\", \"T2_FG%\", \"T2_FGM3\", \"T2_FGA3\",\"T2_FG3%\", \"T2_FTM\", \"T2_FTA\",\"T2_FT%\",\n",
    "    \"T2_OR\", \"T2_DR\", \"T2_Ast\", \"T2_TO\", \"T2_Stl\", \"T2_Blk\", \"T2_PF\",\n",
    "    \"PointDiff\",\n",
    "]\n",
    "# box score에 대한 시즌 중간값 구하기\n",
    "season_median = regular_data.groupby([\"Season\", \"T1_TeamID\"])[boxcols].median()"
   ]
  },
  {
   "cell_type": "code",
   "execution_count": null,
   "metadata": {},
   "outputs": [],
   "source": [
    "# 중간값을 T1 팀/ T1의 상대팀들 / T2 팀 / T2의 상대팀들로 만들기\n",
    "season_median_T1 = season_median.copy()\n",
    "season_median_T2 = season_median.copy()\n",
    "\n",
    "\n",
    "season_median_T1.columns = [\"T1_avg_\" + x.replace(\"T1_\", \"\").replace(\"T2_\", \"opponent_\") for x in list(season_median_T1.columns)]\n",
    "\n",
    "\n",
    "season_median_T2.columns = [\"T2_avg_\" + x.replace(\"T1_\", \"\").replace(\"T2_\", \"opponent_\") for x in list(season_median_T2.columns)]\n",
    "season_median_T2 = season_median_T2.rename_axis(index={\"Season\": \"Season\", \"T1_TeamID\": \"T2_TeamID\"}).reset_index()\n",
    "\n",
    "\n",
    "tourney_data = pd.merge(tourney_data, season_median_T1, on=[\"Season\", \"T1_TeamID\"], how=\"left\")\n",
    "tourney_data = pd.merge(tourney_data, season_median_T2, on=[\"Season\", \"T2_TeamID\"], how=\"left\")"
   ]
  },
  {
   "cell_type": "code",
   "execution_count": null,
   "metadata": {},
   "outputs": [],
   "source": [
    "# team quality 컬럼\n",
    "# regular data 와 seeds 에 season/TeamID로 되어있는 컬럼 만들기\n",
    "regular_data[\"ST1\"] = regular_data.apply(lambda t: str(int(t[\"Season\"])) + \"/\" + str(int(t[\"T1_TeamID\"])), axis=1)\n",
    "regular_data[\"ST2\"] = regular_data.apply(lambda t: str(int(t[\"Season\"])) + \"/\" + str(int(t[\"T2_TeamID\"])), axis=1)\n",
    "seeds_T1[\"ST1\"] = seeds_T1.apply(lambda t: str(int(t[\"Season\"])) + \"/\" + str(int(t[\"T1_TeamID\"])), axis=1)\n",
    "seeds_T2[\"ST2\"] = seeds_T2.apply(lambda t: str(int(t[\"Season\"])) + \"/\" + str(int(t[\"T2_TeamID\"])), axis=1)\n",
    "\n",
    "# st는 tourney에 진출한 팀들의 lsit, 정규전에서 tourney 진출한 팀을 이긴적 있는 팀도 포함\n",
    "st = set(seeds_T1[\"ST1\"]) | set(seeds_T2[\"ST2\"])\n",
    "st = st | set(regular_data.loc[(regular_data[\"T1_Score\"] > regular_data[\"T2_Score\"]) & (regular_data[\"ST2\"].isin(st)), \"ST1\"])\n"
   ]
  },
  {
   "cell_type": "code",
   "execution_count": 14,
   "metadata": {},
   "outputs": [
    {
     "name": "stderr",
     "output_type": "stream",
     "text": [
      "100%|██████████| 20/20 [02:06<00:00,  6.32s/season]\n"
     ]
    }
   ],
   "source": [
    "import statsmodels.api as sm\n",
    "import tqdm\n",
    "# team 1과 2 모두 st에 있는 팀만 dt로 \n",
    "dt= regular_data.loc[regular_data[\"ST1\"].isin(st) | regular_data[\"ST2\"].isin(st)]\n",
    "dt[\"T1_TeamID\"] = dt[\"T1_TeamID\"].astype(str)\n",
    "dt[\"T2_TeamID\"] = dt[\"T2_TeamID\"].astype(str)\n",
    "dt.loc[~dt[\"ST1\"].isin(st), \"T1_TeamID\"] = \"0000\"\n",
    "dt.loc[~dt[\"ST2\"].isin(st), \"T2_TeamID\"] = \"0000\"\n",
    "seasons = sorted(set(seeds[\"Season\"]))\n",
    "\n",
    "def team_quality(season, gender):\n",
    "    formula = \"PointDiff~-1+T1_TeamID+T2_TeamID\"\n",
    "    glm = sm.GLM.from_formula(formula = formula, \n",
    "    data = dt.loc[(dt[\"Season\"] == season) & (dt[\"gender\"] == gender), :],\n",
    "    family = sm.families.Gaussian(),).fit()\n",
    "    quality = pd.DataFrame(glm.params).reset_index()\n",
    "    quality.columns = [\"TeamID\", \"quality\"]\n",
    "    quality[\"quality\"] = quality[\"quality\"]\n",
    "    quality[\"Season\"] = season\n",
    "    quality = quality.loc[quality.TeamID.str.contains(\"T1_\")].reset_index(drop=True)\n",
    "    quality[\"TeamID\"] = quality[\"TeamID\"].apply(lambda x: x[10:14]).astype(int)\n",
    "    return quality\n",
    "\n",
    "glm_quality = []\n",
    "for s in tqdm.tqdm(seasons, unit=\"season\"):\n",
    "    if s >= 2010:  # min season for women\n",
    "        glm_quality.append(team_quality(s, 0))\n",
    "    if s >= 2003:  # min season for men\n",
    "        glm_quality.append(team_quality(s, 1))"
   ]
  },
  {
   "cell_type": "code",
   "execution_count": 15,
   "metadata": {},
   "outputs": [],
   "source": [
    "glm_quality = pd.concat(glm_quality).reset_index(drop=True)\n",
    "glm_quality_T1 = glm_quality.copy()\n",
    "glm_quality_T2 = glm_quality.copy()\n",
    "glm_quality_T1.columns = [\"T1_TeamID\", \"T1_quality\", \"Season\"]\n",
    "glm_quality_T2.columns = [\"T2_TeamID\", \"T2_quality\", \"Season\"]"
   ]
  },
  {
   "cell_type": "code",
   "execution_count": 17,
   "metadata": {},
   "outputs": [],
   "source": [
    "# 마지막지막 5경기 승률\n",
    "last_game_day = pd.DataFrame(regular_data.groupby([\"ST1\"])[\"DayNum\"].max())\n",
    "last_game_day.columns = [\"Last_game_day\"]\n",
    "last_game_add_regular = regular_data.copy()\n",
    "last_game_add_regular = last_game_add_regular[[\"ST1\", \"ST2\", \"win\", \"DayNum\"]]\n",
    "last_game_add_regular = last_game_add_regular.merge(last_game_day, left_on = \"ST1\", right_index = True, how = \"left\")\n",
    "last_5_games = last_game_add_regular.groupby(\"ST1\").apply(lambda x: x.nlargest(5, \"DayNum\")).reset_index(drop=True)\n",
    "\n",
    "# 최근 5경기의 승률 계산\n",
    "day_5_ratio = last_5_games.groupby(\"ST1\")[\"win\"].mean().to_frame()\n",
    "day_5_ratio.columns = [\"day_5_ratio\"]\n",
    "\n"
   ]
  },
  {
   "cell_type": "code",
   "execution_count": 21,
   "metadata": {},
   "outputs": [],
   "source": [
    "game_5_ratio = day_5_ratio.reset_index()\n",
    "game_5_ratio[[\"Season\", \"TeamID\"]] = game_5_ratio[\"ST1\"].str.split(\"/\", expand=True)  # \"/\" 기준으로 분리\n",
    "game_5_ratio = game_5_ratio.drop(columns=[\"ST1\"])\n",
    "game_5_ratio[\"Season\"] = game_5_ratio[\"Season\"].astype(int)\n",
    "game_5_ratio[\"TeamID\"] = game_5_ratio[\"TeamID\"].astype(int)\n"
   ]
  },
  {
   "cell_type": "code",
   "execution_count": null,
   "metadata": {},
   "outputs": [],
   "source": [
    "# game 5 ratio와 glm quality 합치기\n",
    "\n",
    "game_5_ratio_T1 = game_5_ratio.copy()\n",
    "game_5_ratio_T2 = game_5_ratio.copy()\n",
    "game_5_ratio_T1.columns = [\"T1_game_5_ratio\", \"Season\", \"T1_TeamID\"]\n",
    "game_5_ratio_T2.columns = [\"T2_game_5_ratio\", \"Season\", \"T2_TeamID\"]\n",
    "df = pd.merge(tourney_data, game_5_ratio_T1, on=[\"Season\", \"T1_TeamID\"], how=\"left\")\n",
    "df = pd.merge(df, game_5_ratio_T2, on=[\"Season\", \"T2_TeamID\"], how=\"left\")\n",
    "df['game_5_diff']  = df[\"T1_game_5_ratio\"] - df[\"T2_game_5_ratio\"]\n",
    "\n",
    "\n"
   ]
  },
  {
   "cell_type": "code",
   "execution_count": 25,
   "metadata": {},
   "outputs": [],
   "source": [
    "df = pd.merge(df, glm_quality_T1, on=[\"Season\", \"T1_TeamID\"], how=\"left\")\n",
    "df = pd.merge(df, glm_quality_T2, on=[\"Season\", \"T2_TeamID\"], how=\"left\")\n",
    "df[\"diff_quality\"] = df[\"T1_quality\"] - df[\"T2_quality\"]"
   ]
  },
  {
   "cell_type": "code",
   "execution_count": null,
   "metadata": {},
   "outputs": [],
   "source": [
    "# 시각화 모음\n",
    "#  1. seed\n",
    "import plotly.graph_objects as go\n",
    "import plotly.express as px\n",
    "win_counts = tourney_data_win.groupby(\"T1_seed\")[\"win\"].count()\n",
    "loss_counts = tourney_data_loss.groupby(\"T1_seed\")[\"win\"].count()\n",
    "\n",
    "fig = go.Figure()\n",
    "fig.add_trace(go.Bar(x=win_counts.index, y=win_counts.values, name=\"Win\"))\n",
    "fig.add_trace(go.Bar(x=loss_counts.index, y=loss_counts.values, name=\"Loss\"))\n",
    "\n",
    "fig.update_layout(\n",
    "    title=\"Seed별 Win/Loss 횟수\",\n",
    "    xaxis={\"title\": \"T1 Seed\", \"showticklabels\": True, \"dtick\": 1},\n",
    "    yaxis={\"title\": \"Count\"},\n",
    "    autosize=False,\n",
    "    width=800,\n",
    "    height=600,\n",
    "    barmode=\"group\"  \n",
    ")\n",
    "\n",
    "fig.show()\n",
    "\n",
    "# 2. quality\n",
    "tmp = (\n",
    "    df[[\"Season\", \"gender\", \"T1_seed\", \"T1_quality\"]]\n",
    "    .drop_duplicates()\n",
    "    .sort_values(\"T1_quality\")\n",
    "    .reset_index(drop=True)\n",
    ")\n",
    "import matplotlib.pyplot as plt\n",
    "fig, axs = plt.subplots(ncols=2, figsize=(12, 4))\n",
    "seaborn.lineplot(tmp.loc[tmp[\"gender\"] == 0, \"T1_quality\"], color=\"lightgray\", ax=axs[0])\n",
    "seaborn.scatterplot(tmp.loc[(tmp[\"gender\"] == 0) & (tmp.T1_seed == 1), \"T1_quality\"], color=\"red\", ax=axs[0])\n",
    "seaborn.scatterplot(tmp.loc[(tmp[\"gender\"] == 0) & (tmp.T1_seed == 7), \"T1_quality\"], color=\"blue\", ax=axs[0])\n",
    "seaborn.scatterplot(tmp.loc[(tmp[\"gender\"] == 0) & (tmp.T1_seed == 16), \"T1_quality\"], color=\"green\", ax=axs[0])\n",
    "\n",
    "seaborn.lineplot(tmp.loc[tmp[\"gender\"] == 1, \"T1_quality\"], color=\"lightgray\", ax=axs[1])\n",
    "seaborn.scatterplot(tmp.loc[(tmp[\"gender\"] == 1) & (tmp.T1_seed == 1), \"T1_quality\"], color=\"red\", ax=axs[1])\n",
    "seaborn.scatterplot(tmp.loc[(tmp[\"gender\"] == 1) & (tmp.T1_seed == 7), \"T1_quality\"], color=\"blue\", ax=axs[1])\n",
    "seaborn.scatterplot(tmp.loc[(tmp[\"gender\"] == 1) & (tmp.T1_seed == 16), \"T1_quality\"], color=\"green\", ax=axs[1])\n",
    "\n",
    "import seaborn as sns\n",
    "import matplotlib.pyplot as plt\n",
    "\n",
    "plt.figure(figsize=(8,6))\n",
    "sns.scatterplot(data=df, x=\"diff_quality\", y=\"PointDiff\", alpha=0.5)\n",
    "sns.regplot(data=df, x=\"diff_quality\", y=\"PointDiff\", scatter=False, color=\"red\")\n",
    "plt.axhline(0, color=\"gray\", linestyle=\"--\") \n",
    "plt.show()\n",
    "\n",
    "# 3. 5 game ratio\n",
    "win_counts = df.groupby(\"T1_game_5_ratio\")[\"win\"].value_counts().unstack(fill_value=0)\n",
    "fig = go.Figure()\n",
    "fig.add_trace(go.Bar(\n",
    "    x=win_counts.index, \n",
    "    y=win_counts[0],  \n",
    "    name=\" win=0\"\n",
    "))\n",
    "fig.add_trace(go.Bar(\n",
    "    x=win_counts.index, \n",
    "    y=win_counts[1],  \n",
    "    name=\" win=1\"\n",
    "))\n",
    "fig.show()\n",
    "\n",
    "#  Box scores\n",
    "def plot(feature):\n",
    "    num_features = len(feature)\n",
    "\n",
    "    fig, axes = plt.subplots(nrows=2, ncols=int(num_features/2),figsize=(1.5*num_features, 5))  # 2행 num_features/2열\n",
    "    axes = axes.flatten()  # Flatten the axes array\n",
    "\n",
    "    for i, feature in enumerate(feature):\n",
    "        ax = axes[i]  # subplot 지정\n",
    "        sns.scatterplot(x=df[feature], y=df[\"PointDiff\"], ax=ax)\n",
    "        sns.regplot(x=df[feature], y=df[\"PointDiff\"], scatter=False, color=\"red\", ax=ax)  # 회귀선 추가\n",
    "    \n",
    "        ax.set_xlabel(feature)\n",
    "        ax.set_ylabel(\"PointDiff\")\n",
    "        ax.set_title(f\"{feature} vs PointDiff\")\n",
    "\n",
    "    plt.tight_layout()  # 간격 조정\n",
    "    plt.show()\n",
    "plot(df_T1)"
   ]
  },
  {
   "cell_type": "code",
   "execution_count": 27,
   "metadata": {},
   "outputs": [],
   "source": [
    "# feature 선정\n",
    "features = ['gender',\n",
    "       'T1_seed', 'T2_seed', 'seed_diff', 'T1_avg_Score', 'T1_avg_FGA',\n",
    "       'T1_avg_FG%', 'T1_avg_FG3%', 'T1_avg_FGA',\n",
    "       'T1_avg_DR', 'T1_avg_Ast', 'T1_avg_TO', 'T1_avg_opponent_Score',\n",
    "       'T1_avg_opponent_FGA',\n",
    "       'T1_avg_opponent_DR',\n",
    "       'T1_avg_PointDiff', 'T2_avg_Score',  'T2_avg_FG%', 'T2_avg_FG3%',  'T2_avg_DR',\n",
    "       'T2_avg_Ast', 'T2_avg_opponent_DR',\n",
    "       'T2_avg_PointDiff', 'T1_quality', 'T2_quality', 'diff_quality',\n",
    "       'T1_game_5_ratio', 'T2_game_5_ratio', 'game_5_diff']\n"
   ]
  },
  {
   "cell_type": "code",
   "execution_count": 29,
   "metadata": {},
   "outputs": [],
   "source": [
    "# training params 결정\n",
    "import xgboost as xgb\n",
    "\n",
    "param = {}\n",
    "param[\"objective\"] = \"reg:squarederror\"\n",
    "param[\"booster\"] = \"gbtree\"\n",
    "param[\"eta\"] = 0.01\n",
    "param[\"subsample\"] = 0.6\n",
    "param[\"colsample_bynode\"] = 0.8\n",
    "param[\"num_parallel_tree\"] = 2\n",
    "param[\"min_child_weight\"] = 4\n",
    "param[\"max_depth\"] = 4\n",
    "param[\"tree_method\"] = \"hist\"\n",
    "param['grow_policy'] = 'lossguide'\n",
    "param[\"max_bin\"] = 32\n",
    "\n",
    "num_rounds = 700"
   ]
  },
  {
   "cell_type": "code",
   "execution_count": 30,
   "metadata": {},
   "outputs": [
    {
     "name": "stdout",
     "output_type": "stream",
     "text": [
      "oof season 2005 mae: 8.164066108981045\n",
      "oof season 2006 mae: 8.479049947794476\n",
      "oof season 2007 mae: 7.91828537787854\n",
      "oof season 2008 mae: 9.608090389222424\n",
      "oof season 2009 mae: 9.399405187994448\n",
      "oof season 2010 mae: 8.646759467641559\n",
      "oof season 2011 mae: 9.671915453051607\n",
      "oof season 2012 mae: 8.439394149930877\n",
      "oof season 2013 mae: 9.728069122119082\n",
      "oof season 2014 mae: 9.98869893941312\n",
      "oof season 2015 mae: 7.968151155744607\n",
      "oof season 2016 mae: 10.224463286106277\n",
      "oof season 2017 mae: 9.52647076366135\n",
      "oof season 2018 mae: 10.524568229799087\n",
      "oof season 2019 mae: 9.298190732412516\n",
      "oof season 2021 mae: 10.69130220400646\n",
      "oof season 2022 mae: 10.416495068103174\n",
      "oof season 2023 mae: 9.644173551616483\n",
      "oof season 2024 mae: 9.55531540777145\n",
      "average mae: 9.362782344381504\n"
     ]
    }
   ],
   "source": [
    "# training\n",
    "from sklearn.metrics import mean_absolute_error, brier_score_loss\n",
    "\n",
    "models = {}\n",
    "oof_mae = []\n",
    "oof_preds = []\n",
    "oof_targets = []\n",
    "oof_ss = []\n",
    "for oof_season in set(df.Season):\n",
    "    x_train = df.loc[df[\"Season\"] != oof_season, features].values\n",
    "    y_train = df.loc[df[\"Season\"] != oof_season, \"PointDiff\"].values\n",
    "    x_val = df.loc[df[\"Season\"] == oof_season, features].values\n",
    "    y_val = df.loc[df[\"Season\"] == oof_season, \"PointDiff\"].values\n",
    "    s_val = df.loc[df[\"Season\"] == oof_season, \"Season\"].values\n",
    "    dtrain = xgb.DMatrix(x_train, label=y_train)\n",
    "    dval = xgb.DMatrix(x_val, label=y_val)\n",
    "    models[oof_season] = xgb.train(\n",
    "        params=param,\n",
    "        dtrain=dtrain,\n",
    "        num_boost_round = num_rounds,        \n",
    "    )\n",
    "    preds = models[oof_season].predict(dval)\n",
    "    print(f\"oof season {oof_season} mae: {mean_absolute_error(y_val, preds)}\")\n",
    "    oof_mae.append(mean_absolute_error(y_val, preds))\n",
    "    oof_preds += list(preds)\n",
    "    oof_targets += list(y_val)\n",
    "    oof_ss += list(s_val)\n",
    "print(f\"average mae: {np.mean(oof_mae)}\")"
   ]
  },
  {
   "cell_type": "code",
   "execution_count": null,
   "metadata": {},
   "outputs": [],
   "source": [
    "df_2 = pd.DataFrame(\n",
    "    {\"Season\": oof_ss, \"pred\": oof_preds, \"label\": [(t > 0) * 1 for t in oof_targets], \"gender\": df[\"gender\"]}\n",
    ")\n",
    "df_2[\"pred_pointdiff\"] = df_2[\"pred\"].astype(int)\n",
    "\n",
    "xdf_all = df_2.clip(-30, 30).groupby(\"pred_pointdiff\")[\"label\"].mean().reset_index(name=\"average_win_pct\")\n",
    "xdf_men = df_2.clip(-30, 30).loc[df[\"gender\"] == 0].groupby(\"pred_pointdiff\")[\"label\"].mean().reset_index(name=\"average_win_pct\")\n",
    "xdf_women = df_2.clip(-30, 30).loc[df[\"gender\"] == 1].groupby(\"pred_pointdiff\")[\"label\"].mean().reset_index(name=\"average_win_pct\")\n",
    "\n",
    "seaborn.lineplot(x=xdf_all[\"pred_pointdiff\"], y=xdf_all[\"average_win_pct\"])\n",
    "seaborn.lineplot(x=xdf_men[\"pred_pointdiff\"], y=xdf_men[\"average_win_pct\"])\n",
    "seaborn.lineplot(x=xdf_women[\"pred_pointdiff\"], y=xdf_women[\"average_win_pct\"])\n"
   ]
  },
  {
   "cell_type": "code",
   "execution_count": null,
   "metadata": {},
   "outputs": [],
   "source": [
    "from scipy.interpolate import UnivariateSpline\n",
    "import matplotlib.pyplot as plt\n",
    "t = 25\n",
    "dat = list(zip(oof_preds, np.array(oof_targets)>0))\n",
    "dat = sorted(dat, key = lambda x: x[0])\n",
    "pred, label = list(zip(*dat))\n",
    "spline_model = UnivariateSpline(np.clip(pred, -t, t), label, k=5)\n",
    "spline_fit = np.clip(spline_model(np.clip(oof_preds, -t, t)), 0.01, 0.99)\n",
    "print(f\"brier: {brier_score_loss(np.array(oof_targets)>0, spline_fit)}\")\n",
    "df_2[\"spline\"] = spline_fit\n",
    "xdf = df_2.clip(-30,30).groupby('pred_pointdiff')[['spline','label']].mean().reset_index()\n",
    "\n",
    "plt.figure()\n",
    "plt.plot(xdf['pred_pointdiff'],xdf['label'])\n",
    "plt.plot(xdf['pred_pointdiff'],xdf['spline'])"
   ]
  },
  {
   "cell_type": "code",
   "execution_count": null,
   "metadata": {},
   "outputs": [],
   "source": [
    "print(f\"brier: {brier_score_loss(np.array(oof_targets)>0, spline_fit)}\")\n",
    "\n",
    "for oof_season in set(df.Season):\n",
    "    x = df_2.loc[df[\"Season\"] == oof_season, \"spline\"].values\n",
    "    y = df_2.loc[df[\"Season\"] == oof_season, \"label\"].values\n",
    "    print(oof_season, np.round(brier_score_loss(y, x),5))"
   ]
  },
  {
   "cell_type": "code",
   "execution_count": null,
   "metadata": {},
   "outputs": [],
   "source": [
    "X = pd.read_csv(f\"{data_dir}\\SampleSubmissionStage2.csv\")\n",
    "\n",
    "X['Season'] = X['ID'].apply(lambda t: int(t.split('_')[0]))\n",
    "X['T1_TeamID'] = X['ID'].apply(lambda t: int(t.split('_')[1]))\n",
    "X['T2_TeamID'] = X['ID'].apply(lambda t: int(t.split('_')[2]))\n",
    "X['gender'] = X['T1_TeamID'].apply(lambda t: 0 if str(t)[0]=='1' else 1)\n",
    "X = pd.merge(X,season_median_T1 , on = ['Season', 'T1_TeamID'], how = 'left')\n",
    "X = pd.merge(X,season_median_T2 , on = ['Season', 'T2_TeamID'], how = 'left')\n",
    "X = pd.merge(X, seeds_T1, on = ['Season', 'T1_TeamID'], how = 'left')\n",
    "X = pd.merge(X, seeds_T2, on = ['Season', 'T2_TeamID'], how = 'left')\n",
    "X[\"seed_diff\"] = X[\"T1_seed\"] - X[\"T2_seed\"]\n",
    "X = pd.merge(X, glm_quality_T1, on=[\"Season\", \"T1_TeamID\"], how=\"left\")\n",
    "X = pd.merge(X, glm_quality_T2, on=[\"Season\", \"T2_TeamID\"], how=\"left\")\n",
    "X[\"diff_quality\"] = X[\"T1_quality\"] - X[\"T2_quality\"]\n",
    "X = pd.merge(X, game_5_ratio_T1, on=[\"Season\", \"T1_TeamID\"], how=\"left\")\n",
    "X = pd.merge(X, game_5_ratio_T2, on=[\"Season\", \"T2_TeamID\"], how=\"left\")\n",
    "X[\"game_5_diff\"] = X[\"T1_game_5_ratio\"] - X[\"T2_game_5_ratio\"]\n",
    "X"
   ]
  },
  {
   "cell_type": "code",
   "execution_count": null,
   "metadata": {},
   "outputs": [],
   "source": [
    "preds = []\n",
    "for oof_season in set(df.Season):\n",
    "    dtest = xgb.DMatrix(X[features].values)\n",
    "    margin_preds = models[oof_season].predict(dtest) * 1.0 # aggressive submissions >1, conservative submissions <1\n",
    "    probs = np.clip(spline_model(np.clip(margin_preds, -t, t)), 0.01, 0.99)\n",
    "    preds.append(probs)\n",
    "X['Pred'] = np.array(preds).mean(axis=0) "
   ]
  },
  {
   "cell_type": "code",
   "execution_count": null,
   "metadata": {},
   "outputs": [],
   "source": [
    "pd.pivot_table(data = X, index='T1_seed', columns='T2_seed', values='Pred', aggfunc='mean').style.bar(color='#5fba7d', vmin=0, vmax=1)"
   ]
  },
  {
   "cell_type": "code",
   "execution_count": null,
   "metadata": {},
   "outputs": [],
   "source": [
    "prediction =X[['ID','Pred']].to_csv(f'{data_dir}\\predictions_1.csv',index=None)"
   ]
  }
 ],
 "metadata": {
  "kernelspec": {
   "display_name": "base",
   "language": "python",
   "name": "python3"
  },
  "language_info": {
   "codemirror_mode": {
    "name": "ipython",
    "version": 3
   },
   "file_extension": ".py",
   "mimetype": "text/x-python",
   "name": "python",
   "nbconvert_exporter": "python",
   "pygments_lexer": "ipython3",
   "version": "3.12.3"
  }
 },
 "nbformat": 4,
 "nbformat_minor": 2
}
